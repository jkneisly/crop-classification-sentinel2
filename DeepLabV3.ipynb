{
 "cells": [
  {
   "cell_type": "code",
   "execution_count": 1,
   "id": "32ff7aa8",
   "metadata": {},
   "outputs": [],
   "source": [
    "%%capture\n",
    "!pip install rasterio -q"
   ]
  },
  {
   "cell_type": "code",
   "execution_count": 2,
   "id": "8ff0af36",
   "metadata": {},
   "outputs": [],
   "source": [
    "import os\n",
    "from pathlib import Path\n",
    "import numpy as np\n",
    "import pandas as pd"
   ]
  },
  {
   "cell_type": "code",
   "execution_count": 3,
   "id": "86d517f4-b6c4-40bb-a87d-f5e7a0b814d5",
   "metadata": {},
   "outputs": [],
   "source": [
    "# import zipfile\n",
    "# import os\n",
    "\n",
    "# # define the path to your zipped folder in /uploads\n",
    "# zip_file_path = \"/teamspace/uploads/S2Images.zip\"\n",
    "\n",
    "# # define the directory where you want to extract the contents\n",
    "# # i'm putting it in your home directory here for easy access, but you can change this!\n",
    "# extract_dir = os.path.expanduser(\"~/S2Images_extracted\")\n",
    "\n",
    "# # create the extraction directory if it doesn't exist\n",
    "# os.makedirs(extract_dir, exist_ok=True)\n",
    "\n",
    "# try:\n",
    "#     with zipfile.ZipFile(zip_file_path, 'r') as zip_ref:\n",
    "#         zip_ref.extractall(extract_dir)\n",
    "#     print(f\"successfully unzipped '{zip_file_path}' to '{extract_dir}'\")\n",
    "# except FileNotFoundError:\n",
    "#     print(f\"error: the file '{zip_file_path}' was not found.\")\n",
    "# except zipfile.BadZipFile:\n",
    "#     print(f\"error: '{zip_file_path}' is not a valid zip file.\")\n",
    "# except Exception as e:\n",
    "#     print(f\"an error occurred: {e}\")\n",
    "\n",
    "# # you can verify the contents by listing them\n",
    "# print(f\"\\ncontents of '{extract_dir}':\")\n",
    "# try:\n",
    "#     for item in os.listdir(extract_dir):\n",
    "#         print(item)\n",
    "# except FileNotFoundError:\n",
    "#     print(\"extraction directory not found or empty.\")"
   ]
  },
  {
   "cell_type": "code",
   "execution_count": 4,
   "id": "75b043cd",
   "metadata": {},
   "outputs": [],
   "source": [
    "DATA_PATH = Path(\"\")\n",
    "TRAIN_IMAGES_PATH = DATA_PATH / \"S2Images/S2Images/train/\"\n",
    "TEST_IMAGES_PATH = DATA_PATH / \"S2Images/S2Images/test/\"\n",
    "TRAIN_CSV_PATH = \"TrainDataset.csv\"\n",
    "TEST_CSV_PATH = \"TestDataset.csv\"\n",
    "subPath = \"submission.csv\""
   ]
  },
  {
   "cell_type": "code",
   "execution_count": 5,
   "id": "a78c4569",
   "metadata": {},
   "outputs": [],
   "source": [
    "## Utility function - count the number of files in a folder:\n",
    "\n",
    "def count_all_files(folder_path):\n",
    "    file_count = 0\n",
    "    for root, dirs, files in os.walk(folder_path):\n",
    "        file_count += len(files)\n",
    "    return file_count"
   ]
  },
  {
   "cell_type": "code",
   "execution_count": 6,
   "id": "67d19dd0",
   "metadata": {},
   "outputs": [
    {
     "name": "stdout",
     "output_type": "stream",
     "text": [
      "📁 Total number of images from GEE in 'S2Images/S2Images/train': 7433\n"
     ]
    }
   ],
   "source": [
    "folder_path = TRAIN_IMAGES_PATH\n",
    "total_files = count_all_files(folder_path)\n",
    "\n",
    "print(f\"📁 Total number of images from GEE in '{folder_path}': {total_files}\")"
   ]
  },
  {
   "cell_type": "code",
   "execution_count": 7,
   "id": "1ceb4057",
   "metadata": {},
   "outputs": [
    {
     "name": "stdout",
     "output_type": "stream",
     "text": [
      "📁 Total number of images from GEE in 'S2Images/S2Images/test': 2201\n"
     ]
    }
   ],
   "source": [
    "folder_path = TEST_IMAGES_PATH\n",
    "total_files = count_all_files(folder_path)\n",
    "\n",
    "print(f\"📁 Total number of images from GEE in '{folder_path}': {total_files}\")"
   ]
  },
  {
   "cell_type": "code",
   "execution_count": 8,
   "id": "5337d79f",
   "metadata": {},
   "outputs": [],
   "source": [
    "import rasterio\n",
    "\n",
    "def get_min_max_tile_size(tif_paths):\n",
    "    \"\"\"\n",
    "    Calculate both the minimum and maximum tile sizes (height × width) from a list of .tif file paths.\n",
    "\n",
    "    Parameters:\n",
    "    - tif_paths (list of str or Path): List of paths to .tif files\n",
    "\n",
    "    Returns:\n",
    "    - min_result (tuple): (min_size, shape, file_path, index)\n",
    "    - max_result (tuple): (max_size, shape, file_path, index)\n",
    "    \"\"\"\n",
    "    min_size = float('inf')\n",
    "    max_size = 0\n",
    "    min_shape = max_shape = (0, 0)\n",
    "    min_file = max_file = None\n",
    "    min_idx = max_idx = None\n",
    "\n",
    "    for idx, path in enumerate(tif_paths):\n",
    "        with rasterio.open(path) as src:\n",
    "            height, width = src.height, src.width\n",
    "            size = height * width\n",
    "\n",
    "            if size < min_size:\n",
    "                min_size = size\n",
    "                min_shape = (height, width)\n",
    "                min_file = path\n",
    "                min_idx = idx\n",
    "\n",
    "            if size > max_size:\n",
    "                max_size = size\n",
    "                max_shape = (height, width)\n",
    "                max_file = path\n",
    "                max_idx = idx\n",
    "\n",
    "    min_result = (min_size, min_shape, str(min_file), min_idx)\n",
    "    max_result = (max_size, max_shape, str(max_file), max_idx)\n",
    "    return min_result, max_result"
   ]
  },
  {
   "cell_type": "code",
   "execution_count": 9,
   "id": "037ea127",
   "metadata": {},
   "outputs": [
    {
     "name": "stdout",
     "output_type": "stream",
     "text": [
      "7433\n"
     ]
    }
   ],
   "source": [
    "## Load the train/test csv files\n",
    "train = pd.read_csv(TRAIN_CSV_PATH)\n",
    "test = pd.read_csv(TEST_CSV_PATH)\n",
    "\n",
    "train = train[train['tifPath'].notna()].copy()\n",
    "print(len(train))\n"
   ]
  },
  {
   "cell_type": "code",
   "execution_count": 10,
   "id": "3e6f16b2",
   "metadata": {},
   "outputs": [],
   "source": [
    "def convert_path(old_path):\n",
    "    filename = old_path.split(\"/\")[-1]\n",
    "    if \"train\" in old_path.lower():\n",
    "        return f\"S2Images/S2Images/train/{filename}\"\n",
    "    else:\n",
    "        return f\"S2Images/S2Images/test/{filename}\"\n",
    "\n",
    "# Apply safely\n",
    "train['tifPath'] = train['tifPath'].apply(convert_path)"
   ]
  },
  {
   "cell_type": "code",
   "execution_count": 11,
   "id": "7dc4dc37",
   "metadata": {},
   "outputs": [],
   "source": [
    "# train_tiffs = [Path(tifPath) for tifPath in train.tifPath.values if str(tifPath).endswith(\".tif\")]\n",
    "\n",
    "# # Get min/max tile size of train\n",
    "# min_train_results, max_train_results = get_min_max_tile_size(train_tiffs)"
   ]
  },
  {
   "cell_type": "code",
   "execution_count": 12,
   "id": "80300723",
   "metadata": {},
   "outputs": [],
   "source": [
    "# # Overall max_tile_size\n",
    "# max_tile_height = max_train_results[1][0]\n",
    "# max_tile_width = max_train_results[1][1]\n",
    "\n",
    "# # Assume a square tile\n",
    "# MAX_TILE_SIZE = max(max_tile_height, max_tile_width)\n",
    "\n",
    "# max_train_idx = max_train_results[3]\n",
    "\n",
    "# min_train_idx = min_train_results[3]\n",
    "\n",
    "# max_train_tif_shape = max_train_results[1]\n",
    "\n",
    "# min_train_tif_shape = min_train_results[1]\n",
    "\n",
    "# max_train_tif_file = max_train_results[2]\n",
    "# min_train_tif_file = min_train_results[2]"
   ]
  },
  {
   "cell_type": "code",
   "execution_count": 13,
   "id": "8585ce85",
   "metadata": {},
   "outputs": [],
   "source": [
    "# print(f\"The maximum tile size for train is at {max_train_idx} with: (height x width) = {max_train_tif_shape}.\")\n",
    "# print(f\"The raster image from train with maximum dimension is:\\n\\t{max_train_tif_file}.\\n\")\n",
    "# print(f\"The minimum tile size for train is at {min_train_idx}: (height x width) = {min_train_tif_shape}.\")\n",
    "# print(f\"The raster image from train with the minimum dimension is:\\n\\t{min_train_tif_file}.\\n\")\n",
    "\n",
    "# print(f\"\\nThe maximum tile size to use: MAX_TILE_SIZE = {(MAX_TILE_SIZE, MAX_TILE_SIZE)}.\")"
   ]
  },
  {
   "cell_type": "code",
   "execution_count": 14,
   "id": "73a22113",
   "metadata": {},
   "outputs": [],
   "source": [
    "TILE_SIZE = 51\n",
    "\n",
    "from pathlib import Path\n",
    "import torch\n",
    "import rasterio\n",
    "import numpy as np\n",
    "import pandas as pd\n",
    "from tqdm import tqdm\n",
    "\n",
    "def center_crop_tensor(tensor, size=(TILE_SIZE, TILE_SIZE)):\n",
    "    _, h, w = tensor.shape\n",
    "    crop_h, crop_w = size\n",
    "    start_h = (h - crop_h) // 2\n",
    "    start_w = (w - crop_w) // 2\n",
    "    return tensor[:, start_h:start_h + crop_h, start_w:start_w + crop_w]\n",
    "\n",
    "def normalize_per_band(tensor):\n",
    "    for c in range(tensor.shape[0]):\n",
    "        band = tensor[c]\n",
    "        min_val = band.min()\n",
    "        max_val = band.max()\n",
    "        tensor[c] = (band - min_val) / (max_val - min_val + 1e-5)\n",
    "    return tensor\n",
    "\n",
    "def preprocess_center_crop_and_save(df, output_dir=\"PreprocessedCenterCrop\"):\n",
    "    Path(output_dir).mkdir(exist_ok=True)\n",
    "    new_rows = []\n",
    "\n",
    "    for idx, row in tqdm(df.iterrows(), total=len(df)):\n",
    "        tif_path = row['tifPath']\n",
    "        label = row['class']  # assumes already in 0, 1, 2\n",
    "        img_out_path = Path(output_dir) / f\"{Path(tif_path).stem}_img.pt\"\n",
    "\n",
    "        if img_out_path.exists():\n",
    "            new_rows.append({\n",
    "                \"image_path\": str(img_out_path),\n",
    "                \"label\": label\n",
    "            })\n",
    "            continue\n",
    "\n",
    "        try:\n",
    "            with rasterio.open(tif_path) as src:\n",
    "                raster = src.read()  # (C, H, W)\n",
    "\n",
    "            tensor = torch.tensor(raster, dtype=torch.float32)\n",
    "            cropped = center_crop_tensor(tensor, size=(TILE_SIZE, TILE_SIZE))\n",
    "            cropped = normalize_per_band(cropped)  # ✅ normalize each band independently\n",
    "\n",
    "            # print(f\"{tif_path} stats -> min: {cropped.min().item()}, max: {cropped.max().item()}, mean: {cropped.mean().item()}\")\n",
    "\n",
    "            torch.save(cropped, img_out_path)\n",
    "\n",
    "            new_rows.append({\n",
    "                \"image_path\": str(img_out_path),\n",
    "                \"label\": label\n",
    "            })\n",
    "\n",
    "        except Exception as e:\n",
    "            print(f\"⚠️ Failed to process {tif_path}: {e}\")\n",
    "            continue\n",
    "\n",
    "    return pd.DataFrame(new_rows)"
   ]
  },
  {
   "cell_type": "code",
   "execution_count": 15,
   "id": "0ee9d642",
   "metadata": {},
   "outputs": [
    {
     "name": "stderr",
     "output_type": "stream",
     "text": [
      "100%|██████████| 7433/7433 [00:00<00:00, 14940.78it/s]\n"
     ]
    }
   ],
   "source": [
    "processed_df = preprocess_center_crop_and_save(train)"
   ]
  },
  {
   "cell_type": "code",
   "execution_count": 16,
   "id": "228659da",
   "metadata": {},
   "outputs": [
    {
     "data": {
      "text/html": [
       "<div>\n",
       "<style scoped>\n",
       "    .dataframe tbody tr th:only-of-type {\n",
       "        vertical-align: middle;\n",
       "    }\n",
       "\n",
       "    .dataframe tbody tr th {\n",
       "        vertical-align: top;\n",
       "    }\n",
       "\n",
       "    .dataframe thead th {\n",
       "        text-align: right;\n",
       "    }\n",
       "</style>\n",
       "<table border=\"1\" class=\"dataframe\">\n",
       "  <thead>\n",
       "    <tr style=\"text-align: right;\">\n",
       "      <th></th>\n",
       "      <th>image_path</th>\n",
       "      <th>label</th>\n",
       "    </tr>\n",
       "  </thead>\n",
       "  <tbody>\n",
       "    <tr>\n",
       "      <th>0</th>\n",
       "      <td>PreprocessedCenterCrop/s2_Rubber_ID_h14T0B_202...</td>\n",
       "      <td>3</td>\n",
       "    </tr>\n",
       "    <tr>\n",
       "      <th>1</th>\n",
       "      <td>PreprocessedCenterCrop/s2_Rubber_ID_KbyKOr_202...</td>\n",
       "      <td>3</td>\n",
       "    </tr>\n",
       "    <tr>\n",
       "      <th>2</th>\n",
       "      <td>PreprocessedCenterCrop/s2_Rubber_ID_t4Tmmn_202...</td>\n",
       "      <td>3</td>\n",
       "    </tr>\n",
       "    <tr>\n",
       "      <th>3</th>\n",
       "      <td>PreprocessedCenterCrop/s2_Rubber_ID_yipWoC_202...</td>\n",
       "      <td>3</td>\n",
       "    </tr>\n",
       "    <tr>\n",
       "      <th>4</th>\n",
       "      <td>PreprocessedCenterCrop/s2_Rubber_ID_XKiksa_202...</td>\n",
       "      <td>3</td>\n",
       "    </tr>\n",
       "  </tbody>\n",
       "</table>\n",
       "</div>"
      ],
      "text/plain": [
       "                                          image_path  label\n",
       "0  PreprocessedCenterCrop/s2_Rubber_ID_h14T0B_202...      3\n",
       "1  PreprocessedCenterCrop/s2_Rubber_ID_KbyKOr_202...      3\n",
       "2  PreprocessedCenterCrop/s2_Rubber_ID_t4Tmmn_202...      3\n",
       "3  PreprocessedCenterCrop/s2_Rubber_ID_yipWoC_202...      3\n",
       "4  PreprocessedCenterCrop/s2_Rubber_ID_XKiksa_202...      3"
      ]
     },
     "execution_count": 16,
     "metadata": {},
     "output_type": "execute_result"
    }
   ],
   "source": [
    "processed_df.head()"
   ]
  },
  {
   "cell_type": "code",
   "execution_count": 17,
   "id": "c00f1326",
   "metadata": {},
   "outputs": [
    {
     "name": "stdout",
     "output_type": "stream",
     "text": [
      "Train size: 5946\n",
      "Val size: 1487\n"
     ]
    },
    {
     "data": {
      "text/html": [
       "<div>\n",
       "<style scoped>\n",
       "    .dataframe tbody tr th:only-of-type {\n",
       "        vertical-align: middle;\n",
       "    }\n",
       "\n",
       "    .dataframe tbody tr th {\n",
       "        vertical-align: top;\n",
       "    }\n",
       "\n",
       "    .dataframe thead th {\n",
       "        text-align: right;\n",
       "    }\n",
       "</style>\n",
       "<table border=\"1\" class=\"dataframe\">\n",
       "  <thead>\n",
       "    <tr style=\"text-align: right;\">\n",
       "      <th></th>\n",
       "      <th>image_path</th>\n",
       "      <th>label</th>\n",
       "    </tr>\n",
       "  </thead>\n",
       "  <tbody>\n",
       "    <tr>\n",
       "      <th>2860</th>\n",
       "      <td>PreprocessedCenterCrop/s2_Rubber_ID_KbyKOr_202...</td>\n",
       "      <td>3</td>\n",
       "    </tr>\n",
       "    <tr>\n",
       "      <th>4585</th>\n",
       "      <td>PreprocessedCenterCrop/s2_Rubber_ID_KCnzD5_202...</td>\n",
       "      <td>3</td>\n",
       "    </tr>\n",
       "    <tr>\n",
       "      <th>822</th>\n",
       "      <td>PreprocessedCenterCrop/s2_Rubber_ID_iY4bvo_202...</td>\n",
       "      <td>3</td>\n",
       "    </tr>\n",
       "    <tr>\n",
       "      <th>6157</th>\n",
       "      <td>PreprocessedCenterCrop/s2_Palm_ID_VxNkXs_2024_...</td>\n",
       "      <td>2</td>\n",
       "    </tr>\n",
       "    <tr>\n",
       "      <th>3252</th>\n",
       "      <td>PreprocessedCenterCrop/s2_Palm_ID_SWKK78_2024_...</td>\n",
       "      <td>2</td>\n",
       "    </tr>\n",
       "  </tbody>\n",
       "</table>\n",
       "</div>"
      ],
      "text/plain": [
       "                                             image_path  label\n",
       "2860  PreprocessedCenterCrop/s2_Rubber_ID_KbyKOr_202...      3\n",
       "4585  PreprocessedCenterCrop/s2_Rubber_ID_KCnzD5_202...      3\n",
       "822   PreprocessedCenterCrop/s2_Rubber_ID_iY4bvo_202...      3\n",
       "6157  PreprocessedCenterCrop/s2_Palm_ID_VxNkXs_2024_...      2\n",
       "3252  PreprocessedCenterCrop/s2_Palm_ID_SWKK78_2024_...      2"
      ]
     },
     "execution_count": 17,
     "metadata": {},
     "output_type": "execute_result"
    }
   ],
   "source": [
    "from sklearn.model_selection import train_test_split\n",
    "\n",
    "# Split 80% train, 20% val\n",
    "train_df, val_df = train_test_split(processed_df, test_size=0.2, stratify=train[\"Target\"], random_state=42)\n",
    "\n",
    "print(\"Train size:\", len(train_df))\n",
    "print(\"Val size:\", len(val_df))\n",
    "train_df.head()"
   ]
  },
  {
   "cell_type": "code",
   "execution_count": 18,
   "id": "8563e315",
   "metadata": {},
   "outputs": [],
   "source": [
    "import torch"
   ]
  },
  {
   "cell_type": "code",
   "execution_count": 19,
   "id": "9a02f7bf",
   "metadata": {},
   "outputs": [],
   "source": [
    "from torch.utils.data import Dataset\n",
    "\n",
    "class CachedSegmentationDataset(Dataset):\n",
    "    def __init__(self, df):\n",
    "        self.df = df\n",
    "\n",
    "    def __len__(self):\n",
    "        return len(self.df)\n",
    "\n",
    "    def __getitem__(self, idx):\n",
    "        img_tensor = torch.load(self.df.iloc[idx][\"image_path\"], weights_only=True)\n",
    "        label = self.df.iloc[idx][\"label\"] - 1  # class int: 0, 1, or 2\n",
    "        return img_tensor, label"
   ]
  },
  {
   "cell_type": "code",
   "execution_count": 20,
   "id": "80428755",
   "metadata": {},
   "outputs": [],
   "source": [
    "train_dataset = CachedSegmentationDataset(train_df)\n",
    "train_loader = torch.utils.data.DataLoader(train_dataset, batch_size=16, shuffle=True, num_workers=8, pin_memory=True)\n",
    "\n",
    "val_dataset = CachedSegmentationDataset(val_df)\n",
    "val_loader = torch.utils.data.DataLoader(val_dataset, batch_size=16, shuffle=True, num_workers=8, pin_memory=True)"
   ]
  },
  {
   "cell_type": "code",
   "execution_count": 21,
   "id": "8cf51f39",
   "metadata": {},
   "outputs": [],
   "source": [
    "import torch.nn as nn\n",
    "from torchvision.models.segmentation import deeplabv3_resnet50\n",
    "\n",
    "\n",
    "class DeepLabClassifier(nn.Module):\n",
    "    def __init__(self, num_classes):\n",
    "        super().__init__()\n",
    "        model = deeplabv3_resnet50(pretrained=True)\n",
    "\n",
    "        # Replace the input conv layer to accept 12 channels\n",
    "        old_conv = model.backbone.conv1\n",
    "        model.backbone.conv1 = nn.Conv2d(\n",
    "            12, old_conv.out_channels,\n",
    "            kernel_size=old_conv.kernel_size,\n",
    "            stride=old_conv.stride,\n",
    "            padding=old_conv.padding,\n",
    "            bias=old_conv.bias is not None\n",
    "        )\n",
    "\n",
    "        # Initialize the new conv weights (e.g., repeat or average across RGB)\n",
    "        with torch.no_grad():\n",
    "            model.backbone.conv1.weight[:, :3] = old_conv.weight  # Copy RGB\n",
    "            for i in range(3, 12):\n",
    "                model.backbone.conv1.weight[:, i] = old_conv.weight[:, i % 3]\n",
    "\n",
    "        # Replace the classifier head to output class logits\n",
    "        self.backbone = model.backbone\n",
    "        self.classifier = nn.Sequential(\n",
    "            nn.AdaptiveAvgPool2d(1),\n",
    "            nn.Flatten(),\n",
    "            nn.Linear(2048, num_classes)\n",
    "        )\n",
    "\n",
    "    def forward(self, x):\n",
    "        x = self.backbone(x)['out']  # Extract features\n",
    "        return self.classifier(x)"
   ]
  },
  {
   "cell_type": "code",
   "execution_count": 22,
   "id": "90e118e3",
   "metadata": {},
   "outputs": [
    {
     "name": "stdout",
     "output_type": "stream",
     "text": [
      "cuda\n"
     ]
    }
   ],
   "source": [
    "device = torch.device(\"cuda\" if torch.cuda.is_available() else \"cpu\")\n",
    "print(device)"
   ]
  },
  {
   "cell_type": "code",
   "execution_count": 23,
   "id": "34fdee7a",
   "metadata": {},
   "outputs": [
    {
     "name": "stderr",
     "output_type": "stream",
     "text": [
      "/home/zeus/miniconda3/envs/cloudspace/lib/python3.10/site-packages/torchvision/models/_utils.py:208: UserWarning: The parameter 'pretrained' is deprecated since 0.13 and may be removed in the future, please use 'weights' instead.\n",
      "  warnings.warn(\n",
      "/home/zeus/miniconda3/envs/cloudspace/lib/python3.10/site-packages/torchvision/models/_utils.py:223: UserWarning: Arguments other than a weight enum or `None` for 'weights' are deprecated since 0.13 and may be removed in the future. The current behavior is equivalent to passing `weights=DeepLabV3_ResNet50_Weights.COCO_WITH_VOC_LABELS_V1`. You can also use `weights=DeepLabV3_ResNet50_Weights.DEFAULT` to get the most up-to-date weights.\n",
      "  warnings.warn(msg)\n"
     ]
    }
   ],
   "source": [
    "model = DeepLabClassifier(num_classes=3)\n",
    "model = model.to(device)"
   ]
  },
  {
   "cell_type": "code",
   "execution_count": 24,
   "id": "8e6ff765-a76e-43c1-9886-5b63efd5e7c8",
   "metadata": {},
   "outputs": [],
   "source": [
    "# import os\n",
    "# import shutil\n",
    "\n",
    "# folder_name = \"checkpoints\"\n",
    "\n",
    "# # remove the folder if it exists\n",
    "# if os.path.exists(folder_name):\n",
    "#     print(f\"removing existing folder: {folder_name}\")\n",
    "#     shutil.rmtree(folder_name)\n",
    "#     print(f\"folder '{folder_name}' removed.\")\n",
    "# else:\n",
    "#     print(f\"folder '{folder_name}' does not exist, skipping removal.\")\n",
    "\n",
    "# # create the folder\n",
    "# print(f\"creating new folder: {folder_name}\")\n",
    "# os.makedirs(folder_name, exist_ok=True)\n",
    "# print(f\"folder '{folder_name}' created.\")"
   ]
  },
  {
   "cell_type": "code",
   "execution_count": 25,
   "id": "24d64cd9-70ef-4636-a4d6-f0f20d68ac0c",
   "metadata": {},
   "outputs": [],
   "source": [
    "from collections import Counter\n",
    "import numpy as np\n",
    "num_classes = 3\n",
    "# Count occurrences of each class in the training dataset\n",
    "class_counts = np.zeros(num_classes)\n",
    "for _, y in train_loader:\n",
    "    for label in y:\n",
    "        class_counts[label.item()] += 1\n",
    "\n",
    "# Compute weights: inverse of frequency (more weight to rare classes)\n",
    "class_weights = 1.0 / (class_counts + 1e-6)\n",
    "class_weights = class_weights / class_weights.sum()  # Normalize\n",
    "class_weights = torch.tensor(class_weights, dtype=torch.float32).to(device)"
   ]
  },
  {
   "cell_type": "code",
   "execution_count": 26,
   "id": "f9fcfbab",
   "metadata": {},
   "outputs": [
    {
     "name": "stderr",
     "output_type": "stream",
     "text": [
      "Epoch 1: 100%|██████████| 372/372 [00:08<00:00, 43.41it/s]"
     ]
    },
    {
     "name": "stdout",
     "output_type": "stream",
     "text": [
      "\n",
      "Epoch 1: Loss = 348.2016, Accuracy = 56.27%\n"
     ]
    },
    {
     "name": "stderr",
     "output_type": "stream",
     "text": [
      "\n"
     ]
    },
    {
     "name": "stdout",
     "output_type": "stream",
     "text": [
      "Validation Accuracy: 62.34%\n",
      "Validation Loss: 83.95%\n",
      "Cocoa Accuracy: 61.90% (234/378)\n",
      "Palm Accuracy: 52.73% (261/495)\n",
      "Rubber Accuracy: 70.36% (432/614)\n"
     ]
    },
    {
     "name": "stderr",
     "output_type": "stream",
     "text": [
      "/home/zeus/miniconda3/envs/cloudspace/lib/python3.10/site-packages/torch/optim/lr_scheduler.py:198: UserWarning: The epoch parameter in `scheduler.step()` was not necessary and is being deprecated where possible. Please use `scheduler.step()` to step the scheduler. During the deprecation, if epoch is different from None, the closed form is used instead of the new chainable form, where available. Please open an issue if you are unable to replicate your use case: https://github.com/pytorch/pytorch/issues/new/choose.\n",
      "  warnings.warn(EPOCH_DEPRECATION_WARNING, UserWarning)\n"
     ]
    },
    {
     "name": "stdout",
     "output_type": "stream",
     "text": [
      "✅ Saved new best checkpoint.\n"
     ]
    },
    {
     "name": "stderr",
     "output_type": "stream",
     "text": [
      "Epoch 2: 100%|██████████| 372/372 [00:07<00:00, 48.03it/s]"
     ]
    },
    {
     "name": "stdout",
     "output_type": "stream",
     "text": [
      "\n",
      "Epoch 2: Loss = 288.3085, Accuracy = 69.11%\n"
     ]
    },
    {
     "name": "stderr",
     "output_type": "stream",
     "text": [
      "\n"
     ]
    },
    {
     "name": "stdout",
     "output_type": "stream",
     "text": [
      "Validation Accuracy: 67.59%\n",
      "Validation Loss: 67.10%\n",
      "Cocoa Accuracy: 67.99% (257/378)\n",
      "Palm Accuracy: 61.41% (304/495)\n",
      "Rubber Accuracy: 72.31% (444/614)\n",
      "✅ Saved new best checkpoint.\n"
     ]
    },
    {
     "name": "stderr",
     "output_type": "stream",
     "text": [
      "Epoch 3: 100%|██████████| 372/372 [00:07<00:00, 48.51it/s]"
     ]
    },
    {
     "name": "stdout",
     "output_type": "stream",
     "text": [
      "\n",
      "Epoch 3: Loss = 243.4173, Accuracy = 78.47%\n"
     ]
    },
    {
     "name": "stderr",
     "output_type": "stream",
     "text": [
      "\n"
     ]
    },
    {
     "name": "stdout",
     "output_type": "stream",
     "text": [
      "Validation Accuracy: 69.33%\n",
      "Validation Loss: 81.62%\n",
      "Cocoa Accuracy: 73.81% (279/378)\n",
      "Palm Accuracy: 60.40% (299/495)\n",
      "Rubber Accuracy: 73.78% (453/614)\n",
      "✅ Saved new best checkpoint.\n"
     ]
    },
    {
     "name": "stderr",
     "output_type": "stream",
     "text": [
      "Epoch 4: 100%|██████████| 372/372 [00:07<00:00, 48.64it/s]"
     ]
    },
    {
     "name": "stdout",
     "output_type": "stream",
     "text": [
      "\n",
      "Epoch 4: Loss = 202.1861, Accuracy = 86.60%\n"
     ]
    },
    {
     "name": "stderr",
     "output_type": "stream",
     "text": [
      "\n"
     ]
    },
    {
     "name": "stdout",
     "output_type": "stream",
     "text": [
      "Validation Accuracy: 69.67%\n",
      "Validation Loss: 76.78%\n",
      "Cocoa Accuracy: 69.84% (264/378)\n",
      "Palm Accuracy: 61.82% (306/495)\n",
      "Rubber Accuracy: 75.90% (466/614)\n",
      "✅ Saved new best checkpoint.\n"
     ]
    },
    {
     "name": "stderr",
     "output_type": "stream",
     "text": [
      "Epoch 5: 100%|██████████| 372/372 [00:07<00:00, 48.48it/s]"
     ]
    },
    {
     "name": "stdout",
     "output_type": "stream",
     "text": [
      "\n",
      "Epoch 5: Loss = 173.2202, Accuracy = 91.04%\n"
     ]
    },
    {
     "name": "stderr",
     "output_type": "stream",
     "text": [
      "\n"
     ]
    },
    {
     "name": "stdout",
     "output_type": "stream",
     "text": [
      "Validation Accuracy: 71.55%\n",
      "Validation Loss: 51.14%\n",
      "Cocoa Accuracy: 74.07% (280/378)\n",
      "Palm Accuracy: 66.67% (330/495)\n",
      "Rubber Accuracy: 73.94% (454/614)\n",
      "✅ Saved new best checkpoint.\n"
     ]
    },
    {
     "name": "stderr",
     "output_type": "stream",
     "text": [
      "Epoch 6: 100%|██████████| 372/372 [00:07<00:00, 48.08it/s]"
     ]
    },
    {
     "name": "stdout",
     "output_type": "stream",
     "text": [
      "\n",
      "Epoch 6: Loss = 154.8597, Accuracy = 93.73%\n"
     ]
    },
    {
     "name": "stderr",
     "output_type": "stream",
     "text": [
      "\n"
     ]
    },
    {
     "name": "stdout",
     "output_type": "stream",
     "text": [
      "Validation Accuracy: 72.49%\n",
      "Validation Loss: 72.55%\n",
      "Cocoa Accuracy: 75.93% (287/378)\n",
      "Palm Accuracy: 74.14% (367/495)\n",
      "Rubber Accuracy: 69.06% (424/614)\n",
      "✅ Saved new best checkpoint.\n"
     ]
    },
    {
     "name": "stderr",
     "output_type": "stream",
     "text": [
      "Epoch 7: 100%|██████████| 372/372 [00:07<00:00, 48.05it/s]"
     ]
    },
    {
     "name": "stdout",
     "output_type": "stream",
     "text": [
      "\n",
      "Epoch 7: Loss = 143.7181, Accuracy = 95.73%\n"
     ]
    },
    {
     "name": "stderr",
     "output_type": "stream",
     "text": [
      "\n"
     ]
    },
    {
     "name": "stdout",
     "output_type": "stream",
     "text": [
      "Validation Accuracy: 71.69%\n",
      "Validation Loss: 49.54%\n",
      "Cocoa Accuracy: 75.66% (286/378)\n",
      "Palm Accuracy: 69.09% (342/495)\n",
      "Rubber Accuracy: 71.34% (438/614)\n"
     ]
    },
    {
     "name": "stderr",
     "output_type": "stream",
     "text": [
      "Epoch 8: 100%|██████████| 372/372 [00:07<00:00, 48.26it/s]"
     ]
    },
    {
     "name": "stdout",
     "output_type": "stream",
     "text": [
      "\n",
      "Epoch 8: Loss = 138.7640, Accuracy = 96.12%\n"
     ]
    },
    {
     "name": "stderr",
     "output_type": "stream",
     "text": [
      "\n"
     ]
    },
    {
     "name": "stdout",
     "output_type": "stream",
     "text": [
      "Validation Accuracy: 72.70%\n",
      "Validation Loss: 48.72%\n",
      "Cocoa Accuracy: 78.84% (298/378)\n",
      "Palm Accuracy: 66.26% (328/495)\n",
      "Rubber Accuracy: 74.10% (455/614)\n",
      "✅ Saved new best checkpoint.\n"
     ]
    },
    {
     "name": "stderr",
     "output_type": "stream",
     "text": [
      "Epoch 9: 100%|██████████| 372/372 [00:07<00:00, 48.28it/s]"
     ]
    },
    {
     "name": "stdout",
     "output_type": "stream",
     "text": [
      "\n",
      "Epoch 9: Loss = 132.3483, Accuracy = 97.07%\n"
     ]
    },
    {
     "name": "stderr",
     "output_type": "stream",
     "text": [
      "\n"
     ]
    },
    {
     "name": "stdout",
     "output_type": "stream",
     "text": [
      "Validation Accuracy: 71.55%\n",
      "Validation Loss: 77.35%\n",
      "Cocoa Accuracy: 77.78% (294/378)\n",
      "Palm Accuracy: 62.83% (311/495)\n",
      "Rubber Accuracy: 74.76% (459/614)\n"
     ]
    },
    {
     "name": "stderr",
     "output_type": "stream",
     "text": [
      "Epoch 10: 100%|██████████| 372/372 [00:07<00:00, 47.96it/s]"
     ]
    },
    {
     "name": "stdout",
     "output_type": "stream",
     "text": [
      "\n",
      "Epoch 10: Loss = 130.9203, Accuracy = 97.26%\n"
     ]
    },
    {
     "name": "stderr",
     "output_type": "stream",
     "text": [
      "\n"
     ]
    },
    {
     "name": "stdout",
     "output_type": "stream",
     "text": [
      "Validation Accuracy: 70.48%\n",
      "Validation Loss: 116.27%\n",
      "Cocoa Accuracy: 76.72% (290/378)\n",
      "Palm Accuracy: 49.90% (247/495)\n",
      "Rubber Accuracy: 83.22% (511/614)\n"
     ]
    },
    {
     "name": "stderr",
     "output_type": "stream",
     "text": [
      "Epoch 11: 100%|██████████| 372/372 [00:07<00:00, 47.90it/s]"
     ]
    },
    {
     "name": "stdout",
     "output_type": "stream",
     "text": [
      "\n",
      "Epoch 11: Loss = 125.9331, Accuracy = 97.86%\n"
     ]
    },
    {
     "name": "stderr",
     "output_type": "stream",
     "text": [
      "\n"
     ]
    },
    {
     "name": "stdout",
     "output_type": "stream",
     "text": [
      "Validation Accuracy: 71.62%\n",
      "Validation Loss: 93.08%\n",
      "Cocoa Accuracy: 74.60% (282/378)\n",
      "Palm Accuracy: 69.70% (345/495)\n",
      "Rubber Accuracy: 71.34% (438/614)\n"
     ]
    },
    {
     "name": "stderr",
     "output_type": "stream",
     "text": [
      "Epoch 12: 100%|██████████| 372/372 [00:07<00:00, 48.25it/s]"
     ]
    },
    {
     "name": "stdout",
     "output_type": "stream",
     "text": [
      "\n",
      "Epoch 12: Loss = 123.6124, Accuracy = 98.18%\n"
     ]
    },
    {
     "name": "stderr",
     "output_type": "stream",
     "text": [
      "\n"
     ]
    },
    {
     "name": "stdout",
     "output_type": "stream",
     "text": [
      "Validation Accuracy: 71.55%\n",
      "Validation Loss: 58.94%\n",
      "Cocoa Accuracy: 76.72% (290/378)\n",
      "Palm Accuracy: 66.26% (328/495)\n",
      "Rubber Accuracy: 72.64% (446/614)\n"
     ]
    },
    {
     "name": "stderr",
     "output_type": "stream",
     "text": [
      "Epoch 13: 100%|██████████| 372/372 [00:07<00:00, 47.97it/s]"
     ]
    },
    {
     "name": "stdout",
     "output_type": "stream",
     "text": [
      "\n",
      "Epoch 13: Loss = 122.2336, Accuracy = 98.37%\n"
     ]
    },
    {
     "name": "stderr",
     "output_type": "stream",
     "text": [
      "\n"
     ]
    },
    {
     "name": "stdout",
     "output_type": "stream",
     "text": [
      "Validation Accuracy: 72.09%\n",
      "Validation Loss: 83.94%\n",
      "Cocoa Accuracy: 78.31% (296/378)\n",
      "Palm Accuracy: 63.84% (316/495)\n",
      "Rubber Accuracy: 74.92% (460/614)\n"
     ]
    },
    {
     "name": "stderr",
     "output_type": "stream",
     "text": [
      "Epoch 14: 100%|██████████| 372/372 [00:07<00:00, 48.29it/s]"
     ]
    },
    {
     "name": "stdout",
     "output_type": "stream",
     "text": [
      "\n",
      "Epoch 14: Loss = 126.6448, Accuracy = 97.58%\n"
     ]
    },
    {
     "name": "stderr",
     "output_type": "stream",
     "text": [
      "\n"
     ]
    },
    {
     "name": "stdout",
     "output_type": "stream",
     "text": [
      "Validation Accuracy: 72.83%\n",
      "Validation Loss: 74.19%\n",
      "Cocoa Accuracy: 73.28% (277/378)\n",
      "Palm Accuracy: 72.93% (361/495)\n",
      "Rubber Accuracy: 72.48% (445/614)\n",
      "✅ Saved new best checkpoint.\n"
     ]
    },
    {
     "name": "stderr",
     "output_type": "stream",
     "text": [
      "Epoch 15: 100%|██████████| 372/372 [00:07<00:00, 47.14it/s]"
     ]
    },
    {
     "name": "stdout",
     "output_type": "stream",
     "text": [
      "\n",
      "Epoch 15: Loss = 120.7108, Accuracy = 98.74%\n"
     ]
    },
    {
     "name": "stderr",
     "output_type": "stream",
     "text": [
      "\n"
     ]
    },
    {
     "name": "stdout",
     "output_type": "stream",
     "text": [
      "Validation Accuracy: 70.88%\n",
      "Validation Loss: 60.78%\n",
      "Cocoa Accuracy: 80.69% (305/378)\n",
      "Palm Accuracy: 66.06% (327/495)\n",
      "Rubber Accuracy: 68.73% (422/614)\n"
     ]
    },
    {
     "name": "stderr",
     "output_type": "stream",
     "text": [
      "Epoch 16: 100%|██████████| 372/372 [00:07<00:00, 47.25it/s]"
     ]
    },
    {
     "name": "stdout",
     "output_type": "stream",
     "text": [
      "\n",
      "Epoch 16: Loss = 122.4453, Accuracy = 98.40%\n"
     ]
    },
    {
     "name": "stderr",
     "output_type": "stream",
     "text": [
      "\n"
     ]
    },
    {
     "name": "stdout",
     "output_type": "stream",
     "text": [
      "Validation Accuracy: 70.95%\n",
      "Validation Loss: 83.00%\n",
      "Cocoa Accuracy: 76.98% (291/378)\n",
      "Palm Accuracy: 61.62% (305/495)\n",
      "Rubber Accuracy: 74.76% (459/614)\n"
     ]
    },
    {
     "name": "stderr",
     "output_type": "stream",
     "text": [
      "Epoch 17: 100%|██████████| 372/372 [00:07<00:00, 47.84it/s]"
     ]
    },
    {
     "name": "stdout",
     "output_type": "stream",
     "text": [
      "\n",
      "Epoch 17: Loss = 122.4299, Accuracy = 98.23%\n"
     ]
    },
    {
     "name": "stderr",
     "output_type": "stream",
     "text": [
      "\n"
     ]
    },
    {
     "name": "stdout",
     "output_type": "stream",
     "text": [
      "Validation Accuracy: 66.85%\n",
      "Validation Loss: 63.12%\n",
      "Cocoa Accuracy: 62.17% (235/378)\n",
      "Palm Accuracy: 65.66% (325/495)\n",
      "Rubber Accuracy: 70.68% (434/614)\n"
     ]
    },
    {
     "name": "stderr",
     "output_type": "stream",
     "text": [
      "Epoch 18: 100%|██████████| 372/372 [00:07<00:00, 48.92it/s]"
     ]
    },
    {
     "name": "stdout",
     "output_type": "stream",
     "text": [
      "\n",
      "Epoch 18: Loss = 123.6656, Accuracy = 98.02%\n"
     ]
    },
    {
     "name": "stderr",
     "output_type": "stream",
     "text": [
      "\n"
     ]
    },
    {
     "name": "stdout",
     "output_type": "stream",
     "text": [
      "Validation Accuracy: 73.37%\n",
      "Validation Loss: 8.66%\n",
      "Cocoa Accuracy: 82.28% (311/378)\n",
      "Palm Accuracy: 64.44% (319/495)\n",
      "Rubber Accuracy: 75.08% (461/614)\n",
      "✅ Saved new best checkpoint.\n"
     ]
    },
    {
     "name": "stderr",
     "output_type": "stream",
     "text": [
      "Epoch 19: 100%|██████████| 372/372 [00:07<00:00, 47.61it/s]"
     ]
    },
    {
     "name": "stdout",
     "output_type": "stream",
     "text": [
      "\n",
      "Epoch 19: Loss = 118.2230, Accuracy = 98.86%\n"
     ]
    },
    {
     "name": "stderr",
     "output_type": "stream",
     "text": [
      "\n"
     ]
    },
    {
     "name": "stdout",
     "output_type": "stream",
     "text": [
      "Validation Accuracy: 72.23%\n",
      "Validation Loss: 92.98%\n",
      "Cocoa Accuracy: 69.05% (261/378)\n",
      "Palm Accuracy: 68.69% (340/495)\n",
      "Rubber Accuracy: 77.04% (473/614)\n"
     ]
    },
    {
     "name": "stderr",
     "output_type": "stream",
     "text": [
      "Epoch 20: 100%|██████████| 372/372 [00:08<00:00, 46.02it/s]"
     ]
    },
    {
     "name": "stdout",
     "output_type": "stream",
     "text": [
      "\n",
      "Epoch 20: Loss = 117.8122, Accuracy = 98.79%\n"
     ]
    },
    {
     "name": "stderr",
     "output_type": "stream",
     "text": [
      "\n"
     ]
    },
    {
     "name": "stdout",
     "output_type": "stream",
     "text": [
      "Validation Accuracy: 70.61%\n",
      "Validation Loss: 62.34%\n",
      "Cocoa Accuracy: 68.78% (260/378)\n",
      "Palm Accuracy: 67.68% (335/495)\n",
      "Rubber Accuracy: 74.10% (455/614)\n"
     ]
    },
    {
     "name": "stderr",
     "output_type": "stream",
     "text": [
      "Epoch 21: 100%|██████████| 372/372 [00:07<00:00, 48.02it/s]"
     ]
    },
    {
     "name": "stdout",
     "output_type": "stream",
     "text": [
      "\n",
      "Epoch 21: Loss = 116.9788, Accuracy = 99.13%\n"
     ]
    },
    {
     "name": "stderr",
     "output_type": "stream",
     "text": [
      "\n"
     ]
    },
    {
     "name": "stdout",
     "output_type": "stream",
     "text": [
      "Validation Accuracy: 72.56%\n",
      "Validation Loss: 68.34%\n",
      "Cocoa Accuracy: 75.66% (286/378)\n",
      "Palm Accuracy: 71.31% (353/495)\n",
      "Rubber Accuracy: 71.66% (440/614)\n"
     ]
    },
    {
     "name": "stderr",
     "output_type": "stream",
     "text": [
      "Epoch 22: 100%|██████████| 372/372 [00:07<00:00, 48.76it/s]"
     ]
    },
    {
     "name": "stdout",
     "output_type": "stream",
     "text": [
      "\n",
      "Epoch 22: Loss = 119.3163, Accuracy = 98.60%\n"
     ]
    },
    {
     "name": "stderr",
     "output_type": "stream",
     "text": [
      "\n"
     ]
    },
    {
     "name": "stdout",
     "output_type": "stream",
     "text": [
      "Validation Accuracy: 69.74%\n",
      "Validation Loss: 124.77%\n",
      "Cocoa Accuracy: 76.19% (288/378)\n",
      "Palm Accuracy: 43.03% (213/495)\n",
      "Rubber Accuracy: 87.30% (536/614)\n"
     ]
    },
    {
     "name": "stderr",
     "output_type": "stream",
     "text": [
      "Epoch 23: 100%|██████████| 372/372 [00:07<00:00, 48.09it/s]"
     ]
    },
    {
     "name": "stdout",
     "output_type": "stream",
     "text": [
      "\n",
      "Epoch 23: Loss = 118.1423, Accuracy = 98.91%\n"
     ]
    },
    {
     "name": "stderr",
     "output_type": "stream",
     "text": [
      "\n"
     ]
    },
    {
     "name": "stdout",
     "output_type": "stream",
     "text": [
      "Validation Accuracy: 74.11%\n",
      "Validation Loss: 50.37%\n",
      "Cocoa Accuracy: 77.51% (293/378)\n",
      "Palm Accuracy: 61.82% (306/495)\n",
      "Rubber Accuracy: 81.92% (503/614)\n",
      "✅ Saved new best checkpoint.\n"
     ]
    },
    {
     "name": "stderr",
     "output_type": "stream",
     "text": [
      "Epoch 24: 100%|██████████| 372/372 [00:07<00:00, 47.18it/s]"
     ]
    },
    {
     "name": "stdout",
     "output_type": "stream",
     "text": [
      "\n",
      "Epoch 24: Loss = 117.3436, Accuracy = 98.94%\n"
     ]
    },
    {
     "name": "stderr",
     "output_type": "stream",
     "text": [
      "\n"
     ]
    },
    {
     "name": "stdout",
     "output_type": "stream",
     "text": [
      "Validation Accuracy: 73.10%\n",
      "Validation Loss: 34.93%\n",
      "Cocoa Accuracy: 74.60% (282/378)\n",
      "Palm Accuracy: 67.27% (333/495)\n",
      "Rubber Accuracy: 76.87% (472/614)\n"
     ]
    },
    {
     "name": "stderr",
     "output_type": "stream",
     "text": [
      "Epoch 25: 100%|██████████| 372/372 [00:07<00:00, 48.00it/s]"
     ]
    },
    {
     "name": "stdout",
     "output_type": "stream",
     "text": [
      "\n",
      "Epoch 25: Loss = 115.7990, Accuracy = 99.28%\n"
     ]
    },
    {
     "name": "stderr",
     "output_type": "stream",
     "text": [
      "\n"
     ]
    },
    {
     "name": "stdout",
     "output_type": "stream",
     "text": [
      "Validation Accuracy: 70.28%\n",
      "Validation Loss: 100.99%\n",
      "Cocoa Accuracy: 71.16% (269/378)\n",
      "Palm Accuracy: 69.29% (343/495)\n",
      "Rubber Accuracy: 70.52% (433/614)\n"
     ]
    },
    {
     "name": "stderr",
     "output_type": "stream",
     "text": [
      "Epoch 26: 100%|██████████| 372/372 [00:07<00:00, 49.47it/s]"
     ]
    },
    {
     "name": "stdout",
     "output_type": "stream",
     "text": [
      "\n",
      "Epoch 26: Loss = 122.6207, Accuracy = 98.25%\n"
     ]
    },
    {
     "name": "stderr",
     "output_type": "stream",
     "text": [
      "\n"
     ]
    },
    {
     "name": "stdout",
     "output_type": "stream",
     "text": [
      "Validation Accuracy: 72.09%\n",
      "Validation Loss: 104.97%\n",
      "Cocoa Accuracy: 75.40% (285/378)\n",
      "Palm Accuracy: 68.28% (338/495)\n",
      "Rubber Accuracy: 73.13% (449/614)\n"
     ]
    },
    {
     "name": "stderr",
     "output_type": "stream",
     "text": [
      "Epoch 27: 100%|██████████| 372/372 [00:07<00:00, 48.43it/s]"
     ]
    },
    {
     "name": "stdout",
     "output_type": "stream",
     "text": [
      "\n",
      "Epoch 27: Loss = 118.1485, Accuracy = 98.84%\n"
     ]
    },
    {
     "name": "stderr",
     "output_type": "stream",
     "text": [
      "\n"
     ]
    },
    {
     "name": "stdout",
     "output_type": "stream",
     "text": [
      "Validation Accuracy: 73.84%\n",
      "Validation Loss: 71.10%\n",
      "Cocoa Accuracy: 73.02% (276/378)\n",
      "Palm Accuracy: 72.12% (357/495)\n",
      "Rubber Accuracy: 75.73% (465/614)\n"
     ]
    },
    {
     "name": "stderr",
     "output_type": "stream",
     "text": [
      "Epoch 28: 100%|██████████| 372/372 [00:07<00:00, 47.75it/s]"
     ]
    },
    {
     "name": "stdout",
     "output_type": "stream",
     "text": [
      "\n",
      "Epoch 28: Loss = 117.6371, Accuracy = 98.89%\n"
     ]
    },
    {
     "name": "stderr",
     "output_type": "stream",
     "text": [
      "\n"
     ]
    },
    {
     "name": "stdout",
     "output_type": "stream",
     "text": [
      "Validation Accuracy: 70.88%\n",
      "Validation Loss: 95.03%\n",
      "Cocoa Accuracy: 72.75% (275/378)\n",
      "Palm Accuracy: 71.52% (354/495)\n",
      "Rubber Accuracy: 69.22% (425/614)\n"
     ]
    },
    {
     "name": "stderr",
     "output_type": "stream",
     "text": [
      "Epoch 29: 100%|██████████| 372/372 [00:07<00:00, 47.09it/s]"
     ]
    },
    {
     "name": "stdout",
     "output_type": "stream",
     "text": [
      "\n",
      "Epoch 29: Loss = 114.0158, Accuracy = 99.39%\n"
     ]
    },
    {
     "name": "stderr",
     "output_type": "stream",
     "text": [
      "\n"
     ]
    },
    {
     "name": "stdout",
     "output_type": "stream",
     "text": [
      "Validation Accuracy: 72.36%\n",
      "Validation Loss: 92.35%\n",
      "Cocoa Accuracy: 73.54% (278/378)\n",
      "Palm Accuracy: 59.19% (293/495)\n",
      "Rubber Accuracy: 82.25% (505/614)\n"
     ]
    },
    {
     "name": "stderr",
     "output_type": "stream",
     "text": [
      "Epoch 30: 100%|██████████| 372/372 [00:07<00:00, 49.69it/s]"
     ]
    },
    {
     "name": "stdout",
     "output_type": "stream",
     "text": [
      "\n",
      "Epoch 30: Loss = 112.4985, Accuracy = 99.65%\n"
     ]
    },
    {
     "name": "stderr",
     "output_type": "stream",
     "text": [
      "\n"
     ]
    },
    {
     "name": "stdout",
     "output_type": "stream",
     "text": [
      "Validation Accuracy: 72.29%\n",
      "Validation Loss: 85.47%\n",
      "Cocoa Accuracy: 77.51% (293/378)\n",
      "Palm Accuracy: 65.66% (325/495)\n",
      "Rubber Accuracy: 74.43% (457/614)\n"
     ]
    },
    {
     "name": "stderr",
     "output_type": "stream",
     "text": [
      "Epoch 31: 100%|██████████| 372/372 [00:07<00:00, 46.57it/s]"
     ]
    },
    {
     "name": "stdout",
     "output_type": "stream",
     "text": [
      "\n",
      "Epoch 31: Loss = 113.6710, Accuracy = 99.31%\n"
     ]
    },
    {
     "name": "stderr",
     "output_type": "stream",
     "text": [
      "\n"
     ]
    },
    {
     "name": "stdout",
     "output_type": "stream",
     "text": [
      "Validation Accuracy: 71.62%\n",
      "Validation Loss: 83.20%\n",
      "Cocoa Accuracy: 69.58% (263/378)\n",
      "Palm Accuracy: 56.97% (282/495)\n",
      "Rubber Accuracy: 84.69% (520/614)\n"
     ]
    },
    {
     "name": "stderr",
     "output_type": "stream",
     "text": [
      "Epoch 32: 100%|██████████| 372/372 [00:07<00:00, 46.75it/s]"
     ]
    },
    {
     "name": "stdout",
     "output_type": "stream",
     "text": [
      "\n",
      "Epoch 32: Loss = 121.9334, Accuracy = 98.23%\n"
     ]
    },
    {
     "name": "stderr",
     "output_type": "stream",
     "text": [
      "\n"
     ]
    },
    {
     "name": "stdout",
     "output_type": "stream",
     "text": [
      "Validation Accuracy: 72.56%\n",
      "Validation Loss: 90.91%\n",
      "Cocoa Accuracy: 71.43% (270/378)\n",
      "Palm Accuracy: 62.83% (311/495)\n",
      "Rubber Accuracy: 81.11% (498/614)\n"
     ]
    },
    {
     "name": "stderr",
     "output_type": "stream",
     "text": [
      "Epoch 33: 100%|██████████| 372/372 [00:07<00:00, 47.74it/s]"
     ]
    },
    {
     "name": "stdout",
     "output_type": "stream",
     "text": [
      "\n",
      "Epoch 33: Loss = 118.3514, Accuracy = 98.69%\n"
     ]
    },
    {
     "name": "stderr",
     "output_type": "stream",
     "text": [
      "\n"
     ]
    },
    {
     "name": "stdout",
     "output_type": "stream",
     "text": [
      "Validation Accuracy: 71.89%\n",
      "Validation Loss: 117.16%\n",
      "Cocoa Accuracy: 75.40% (285/378)\n",
      "Palm Accuracy: 63.43% (314/495)\n",
      "Rubber Accuracy: 76.55% (470/614)\n"
     ]
    },
    {
     "name": "stderr",
     "output_type": "stream",
     "text": [
      "Epoch 34: 100%|██████████| 372/372 [00:07<00:00, 47.71it/s]"
     ]
    },
    {
     "name": "stdout",
     "output_type": "stream",
     "text": [
      "\n",
      "Epoch 34: Loss = 112.7604, Accuracy = 99.56%\n"
     ]
    },
    {
     "name": "stderr",
     "output_type": "stream",
     "text": [
      "\n"
     ]
    },
    {
     "name": "stdout",
     "output_type": "stream",
     "text": [
      "Validation Accuracy: 71.89%\n",
      "Validation Loss: 144.89%\n",
      "Cocoa Accuracy: 74.07% (280/378)\n",
      "Palm Accuracy: 60.20% (298/495)\n",
      "Rubber Accuracy: 79.97% (491/614)\n"
     ]
    },
    {
     "name": "stderr",
     "output_type": "stream",
     "text": [
      "Epoch 35: 100%|██████████| 372/372 [00:07<00:00, 48.76it/s]"
     ]
    },
    {
     "name": "stdout",
     "output_type": "stream",
     "text": [
      "\n",
      "Epoch 35: Loss = 111.2924, Accuracy = 99.73%\n"
     ]
    },
    {
     "name": "stderr",
     "output_type": "stream",
     "text": [
      "\n"
     ]
    },
    {
     "name": "stdout",
     "output_type": "stream",
     "text": [
      "Validation Accuracy: 70.61%\n",
      "Validation Loss: 91.21%\n",
      "Cocoa Accuracy: 82.80% (313/378)\n",
      "Palm Accuracy: 63.03% (312/495)\n",
      "Rubber Accuracy: 69.22% (425/614)\n"
     ]
    },
    {
     "name": "stderr",
     "output_type": "stream",
     "text": [
      "Epoch 36: 100%|██████████| 372/372 [00:07<00:00, 48.31it/s]"
     ]
    },
    {
     "name": "stdout",
     "output_type": "stream",
     "text": [
      "\n",
      "Epoch 36: Loss = 113.2571, Accuracy = 99.50%\n"
     ]
    },
    {
     "name": "stderr",
     "output_type": "stream",
     "text": [
      "\n"
     ]
    },
    {
     "name": "stdout",
     "output_type": "stream",
     "text": [
      "Validation Accuracy: 70.61%\n",
      "Validation Loss: 51.44%\n",
      "Cocoa Accuracy: 73.54% (278/378)\n",
      "Palm Accuracy: 72.12% (357/495)\n",
      "Rubber Accuracy: 67.59% (415/614)\n"
     ]
    },
    {
     "name": "stderr",
     "output_type": "stream",
     "text": [
      "Epoch 37: 100%|██████████| 372/372 [00:07<00:00, 47.85it/s]"
     ]
    },
    {
     "name": "stdout",
     "output_type": "stream",
     "text": [
      "\n",
      "Epoch 37: Loss = 121.2439, Accuracy = 98.44%\n"
     ]
    },
    {
     "name": "stderr",
     "output_type": "stream",
     "text": [
      "\n"
     ]
    },
    {
     "name": "stdout",
     "output_type": "stream",
     "text": [
      "Validation Accuracy: 72.56%\n",
      "Validation Loss: 51.33%\n",
      "Cocoa Accuracy: 73.81% (279/378)\n",
      "Palm Accuracy: 69.09% (342/495)\n",
      "Rubber Accuracy: 74.59% (458/614)\n"
     ]
    },
    {
     "name": "stderr",
     "output_type": "stream",
     "text": [
      "Epoch 38: 100%|██████████| 372/372 [00:08<00:00, 46.49it/s]"
     ]
    },
    {
     "name": "stdout",
     "output_type": "stream",
     "text": [
      "\n",
      "Epoch 38: Loss = 115.5020, Accuracy = 99.13%\n"
     ]
    },
    {
     "name": "stderr",
     "output_type": "stream",
     "text": [
      "\n"
     ]
    },
    {
     "name": "stdout",
     "output_type": "stream",
     "text": [
      "Validation Accuracy: 72.76%\n",
      "Validation Loss: 55.43%\n",
      "Cocoa Accuracy: 72.75% (275/378)\n",
      "Palm Accuracy: 62.42% (309/495)\n",
      "Rubber Accuracy: 81.11% (498/614)\n"
     ]
    },
    {
     "name": "stderr",
     "output_type": "stream",
     "text": [
      "Epoch 39: 100%|██████████| 372/372 [00:07<00:00, 48.19it/s]"
     ]
    },
    {
     "name": "stdout",
     "output_type": "stream",
     "text": [
      "\n",
      "Epoch 39: Loss = 114.0519, Accuracy = 99.36%\n"
     ]
    },
    {
     "name": "stderr",
     "output_type": "stream",
     "text": [
      "\n"
     ]
    },
    {
     "name": "stdout",
     "output_type": "stream",
     "text": [
      "Validation Accuracy: 72.09%\n",
      "Validation Loss: 89.59%\n",
      "Cocoa Accuracy: 78.04% (295/378)\n",
      "Palm Accuracy: 69.70% (345/495)\n",
      "Rubber Accuracy: 70.36% (432/614)\n"
     ]
    },
    {
     "name": "stderr",
     "output_type": "stream",
     "text": [
      "Epoch 40: 100%|██████████| 372/372 [00:07<00:00, 48.51it/s]"
     ]
    },
    {
     "name": "stdout",
     "output_type": "stream",
     "text": [
      "\n",
      "Epoch 40: Loss = 115.6586, Accuracy = 99.02%\n"
     ]
    },
    {
     "name": "stderr",
     "output_type": "stream",
     "text": [
      "\n"
     ]
    },
    {
     "name": "stdout",
     "output_type": "stream",
     "text": [
      "Validation Accuracy: 72.56%\n",
      "Validation Loss: 51.52%\n",
      "Cocoa Accuracy: 80.95% (306/378)\n",
      "Palm Accuracy: 57.17% (283/495)\n",
      "Rubber Accuracy: 79.80% (490/614)\n"
     ]
    },
    {
     "name": "stderr",
     "output_type": "stream",
     "text": [
      "Epoch 41: 100%|██████████| 372/372 [00:07<00:00, 46.96it/s]"
     ]
    },
    {
     "name": "stdout",
     "output_type": "stream",
     "text": [
      "\n",
      "Epoch 41: Loss = 116.0464, Accuracy = 99.04%\n"
     ]
    },
    {
     "name": "stderr",
     "output_type": "stream",
     "text": [
      "\n"
     ]
    },
    {
     "name": "stdout",
     "output_type": "stream",
     "text": [
      "Validation Accuracy: 72.76%\n",
      "Validation Loss: 92.08%\n",
      "Cocoa Accuracy: 78.04% (295/378)\n",
      "Palm Accuracy: 72.32% (358/495)\n",
      "Rubber Accuracy: 69.87% (429/614)\n"
     ]
    },
    {
     "name": "stderr",
     "output_type": "stream",
     "text": [
      "Epoch 42: 100%|██████████| 372/372 [00:07<00:00, 47.00it/s]"
     ]
    },
    {
     "name": "stdout",
     "output_type": "stream",
     "text": [
      "\n",
      "Epoch 42: Loss = 114.1299, Accuracy = 99.36%\n"
     ]
    },
    {
     "name": "stderr",
     "output_type": "stream",
     "text": [
      "\n"
     ]
    },
    {
     "name": "stdout",
     "output_type": "stream",
     "text": [
      "Validation Accuracy: 73.77%\n",
      "Validation Loss: 88.70%\n",
      "Cocoa Accuracy: 74.87% (283/378)\n",
      "Palm Accuracy: 65.66% (325/495)\n",
      "Rubber Accuracy: 79.64% (489/614)\n"
     ]
    },
    {
     "name": "stderr",
     "output_type": "stream",
     "text": [
      "Epoch 43: 100%|██████████| 372/372 [00:07<00:00, 47.39it/s]"
     ]
    },
    {
     "name": "stdout",
     "output_type": "stream",
     "text": [
      "\n",
      "Epoch 43: Loss = 116.1388, Accuracy = 99.11%\n"
     ]
    },
    {
     "name": "stderr",
     "output_type": "stream",
     "text": [
      "\n"
     ]
    },
    {
     "name": "stdout",
     "output_type": "stream",
     "text": [
      "Validation Accuracy: 72.56%\n",
      "Validation Loss: 104.02%\n",
      "Cocoa Accuracy: 75.40% (285/378)\n",
      "Palm Accuracy: 60.20% (298/495)\n",
      "Rubber Accuracy: 80.78% (496/614)\n"
     ]
    },
    {
     "name": "stderr",
     "output_type": "stream",
     "text": [
      "Epoch 44: 100%|██████████| 372/372 [00:07<00:00, 47.82it/s]"
     ]
    },
    {
     "name": "stdout",
     "output_type": "stream",
     "text": [
      "\n",
      "Epoch 44: Loss = 116.0608, Accuracy = 99.02%\n"
     ]
    },
    {
     "name": "stderr",
     "output_type": "stream",
     "text": [
      "\n"
     ]
    },
    {
     "name": "stdout",
     "output_type": "stream",
     "text": [
      "Validation Accuracy: 70.68%\n",
      "Validation Loss: 56.71%\n",
      "Cocoa Accuracy: 74.07% (280/378)\n",
      "Palm Accuracy: 53.54% (265/495)\n",
      "Rubber Accuracy: 82.41% (506/614)\n"
     ]
    },
    {
     "name": "stderr",
     "output_type": "stream",
     "text": [
      "Epoch 45: 100%|██████████| 372/372 [00:07<00:00, 47.87it/s]"
     ]
    },
    {
     "name": "stdout",
     "output_type": "stream",
     "text": [
      "\n",
      "Epoch 45: Loss = 112.9907, Accuracy = 99.43%\n"
     ]
    },
    {
     "name": "stderr",
     "output_type": "stream",
     "text": [
      "\n"
     ]
    },
    {
     "name": "stdout",
     "output_type": "stream",
     "text": [
      "Validation Accuracy: 72.70%\n",
      "Validation Loss: 50.93%\n",
      "Cocoa Accuracy: 76.19% (288/378)\n",
      "Palm Accuracy: 71.92% (356/495)\n",
      "Rubber Accuracy: 71.17% (437/614)\n"
     ]
    },
    {
     "name": "stderr",
     "output_type": "stream",
     "text": [
      "Epoch 46: 100%|██████████| 372/372 [00:07<00:00, 46.81it/s]"
     ]
    },
    {
     "name": "stdout",
     "output_type": "stream",
     "text": [
      "\n",
      "Epoch 46: Loss = 110.3691, Accuracy = 99.85%\n"
     ]
    },
    {
     "name": "stderr",
     "output_type": "stream",
     "text": [
      "\n"
     ]
    },
    {
     "name": "stdout",
     "output_type": "stream",
     "text": [
      "Validation Accuracy: 72.16%\n",
      "Validation Loss: 40.11%\n",
      "Cocoa Accuracy: 76.46% (289/378)\n",
      "Palm Accuracy: 61.21% (303/495)\n",
      "Rubber Accuracy: 78.34% (481/614)\n"
     ]
    },
    {
     "name": "stderr",
     "output_type": "stream",
     "text": [
      "Epoch 47: 100%|██████████| 372/372 [00:07<00:00, 46.69it/s]"
     ]
    },
    {
     "name": "stdout",
     "output_type": "stream",
     "text": [
      "\n",
      "Epoch 47: Loss = 110.9702, Accuracy = 99.71%\n"
     ]
    },
    {
     "name": "stderr",
     "output_type": "stream",
     "text": [
      "\n"
     ]
    },
    {
     "name": "stdout",
     "output_type": "stream",
     "text": [
      "Validation Accuracy: 72.63%\n",
      "Validation Loss: 81.05%\n",
      "Cocoa Accuracy: 78.84% (298/378)\n",
      "Palm Accuracy: 70.10% (347/495)\n",
      "Rubber Accuracy: 70.85% (435/614)\n"
     ]
    },
    {
     "name": "stderr",
     "output_type": "stream",
     "text": [
      "Epoch 48: 100%|██████████| 372/372 [00:07<00:00, 47.82it/s]"
     ]
    },
    {
     "name": "stdout",
     "output_type": "stream",
     "text": [
      "\n",
      "Epoch 48: Loss = 116.9611, Accuracy = 98.91%\n"
     ]
    },
    {
     "name": "stderr",
     "output_type": "stream",
     "text": [
      "\n"
     ]
    },
    {
     "name": "stdout",
     "output_type": "stream",
     "text": [
      "Validation Accuracy: 72.23%\n",
      "Validation Loss: 14.65%\n",
      "Cocoa Accuracy: 74.34% (281/378)\n",
      "Palm Accuracy: 68.08% (337/495)\n",
      "Rubber Accuracy: 74.27% (456/614)\n"
     ]
    },
    {
     "name": "stderr",
     "output_type": "stream",
     "text": [
      "Epoch 49: 100%|██████████| 372/372 [00:07<00:00, 49.02it/s]"
     ]
    },
    {
     "name": "stdout",
     "output_type": "stream",
     "text": [
      "\n",
      "Epoch 49: Loss = 115.8674, Accuracy = 98.97%\n"
     ]
    },
    {
     "name": "stderr",
     "output_type": "stream",
     "text": [
      "\n"
     ]
    },
    {
     "name": "stdout",
     "output_type": "stream",
     "text": [
      "Validation Accuracy: 72.83%\n",
      "Validation Loss: 73.60%\n",
      "Cocoa Accuracy: 78.04% (295/378)\n",
      "Palm Accuracy: 62.42% (309/495)\n",
      "Rubber Accuracy: 78.01% (479/614)\n"
     ]
    },
    {
     "name": "stderr",
     "output_type": "stream",
     "text": [
      "Epoch 50: 100%|██████████| 372/372 [00:07<00:00, 48.03it/s]"
     ]
    },
    {
     "name": "stdout",
     "output_type": "stream",
     "text": [
      "\n",
      "Epoch 50: Loss = 114.2732, Accuracy = 99.31%\n"
     ]
    },
    {
     "name": "stderr",
     "output_type": "stream",
     "text": [
      "\n"
     ]
    },
    {
     "name": "stdout",
     "output_type": "stream",
     "text": [
      "Validation Accuracy: 74.92%\n",
      "Validation Loss: 77.11%\n",
      "Cocoa Accuracy: 73.81% (279/378)\n",
      "Palm Accuracy: 67.88% (336/495)\n",
      "Rubber Accuracy: 81.27% (499/614)\n",
      "✅ Saved new best checkpoint.\n"
     ]
    }
   ],
   "source": [
    "\n",
    "# import os\n",
    "# import shutil\n",
    "\n",
    "# folder_name = \"checkpoints\"\n",
    "\n",
    "# # remove the folder if it exists\n",
    "# if os.path.exists(folder_name):\n",
    "#     print(f\"removing existing folder: {folder_name}\")\n",
    "#     shutil.rmtree(folder_name)\n",
    "#     print(f\"folder '{folder_name}' removed.\")\n",
    "# else:\n",
    "#     print(f\"folder '{folder_name}' does not exist, skipping removal.\")\n",
    "\n",
    "# # create the folder\n",
    "# print(f\"creating new folder: {folder_name}\")\n",
    "# os.makedirs(folder_name, exist_ok=True)\n",
    "# print(f\"folder '{folder_name}' created.\")\n",
    "\n",
    "import numpy as np\n",
    "import torch\n",
    "import torch.nn.functional as F\n",
    "from torch.amp import autocast\n",
    "from torch.amp import GradScaler\n",
    "from tqdm import tqdm\n",
    "\n",
    "  # [Cocoa, Palm, Rubber]\n",
    "reverse_label_map = { 0: 'Cocoa', 1: 'Palm', 2: 'Rubber'}\n",
    "best_val_acc = 0.0\n",
    "\n",
    "scaler = GradScaler()\n",
    "loss_fn = torch.nn.CrossEntropyLoss(label_smoothing=0.1)\n",
    "\n",
    "metrics = {\n",
    "    'Loss': [],\n",
    "    'Train Accuracy': [],\n",
    "    'Validation Accuracy': {\n",
    "        'Cocoa': [], 'Palm': [], 'Rubber': [], 'Total': []\n",
    "    },\n",
    "    'Validation Loss': {\n",
    "        'Cocoa': [], 'Palm': [], 'Rubber': [], 'Total': []\n",
    "    }\n",
    "}\n",
    "\n",
    "optimizer = torch.optim.AdamW(model.parameters(), lr=1e-4, weight_decay=1e-4)\n",
    "\n",
    "scheduler = torch.optim.lr_scheduler.CosineAnnealingLR(optimizer, T_max=50)\n",
    "\n",
    "num_epochs = 50\n",
    "\n",
    "for epoch in range(num_epochs):\n",
    "    model.train()\n",
    "    total_loss, correct = 0, 0\n",
    "\n",
    "    for x, y in tqdm(train_loader, desc=f\"Epoch {epoch+1}\"):\n",
    "        x, y = x.to(device), y.to(device)\n",
    "        optimizer.zero_grad()\n",
    "\n",
    "        with autocast(device_type=\"cuda\", enabled=False):\n",
    "            out = model(x)\n",
    "\n",
    "            if torch.isnan(out).any() or torch.isinf(out).any():\n",
    "                print(\"🚨 NaN or Inf in model output!\")\n",
    "                print(\"out:\", out)\n",
    "                print(\"input stats:\", x.mean(), x.std())\n",
    "                exit()\n",
    "            loss = loss_fn(out, y)\n",
    "            # loss = F.cross_entropy(out, y)\n",
    "\n",
    "        scaler.scale(loss).backward()\n",
    "        scaler.step(optimizer)\n",
    "        scaler.update()\n",
    "        \n",
    "        total_loss += loss.item()\n",
    "        correct += (out.argmax(dim=1) == y).sum().item()\n",
    "\n",
    "    train_acc = correct / len(train_loader.dataset)\n",
    "    print(f\"\\nEpoch {epoch+1}: Loss = {total_loss:.4f}, Accuracy = {train_acc:.2%}\")\n",
    "    metrics['Loss'].append(total_loss)\n",
    "    metrics['Train Accuracy'].append(train_acc)\n",
    "\n",
    "    # ---- Validation with per-class accuracy ----\n",
    "    model.eval()\n",
    "    val_correct = 0\n",
    "    class_correct = np.zeros(num_classes)\n",
    "    class_total = np.zeros(num_classes)\n",
    "\n",
    "    with torch.no_grad():\n",
    "        for x_val, y_val in val_loader:\n",
    "            x_val, y_val = x_val.to(device), y_val.to(device)\n",
    "            out = model(x_val)\n",
    "            preds = out.argmax(dim=1)\n",
    "\n",
    "            val_correct += (preds == y_val).sum().item()\n",
    "            for i in range(num_classes):\n",
    "                class_correct[i] += ((preds == i) & (y_val == i)).sum().item()\n",
    "                class_total[i] += (y_val == i).sum().item()\n",
    "\n",
    "    val_acc = val_correct / len(val_loader.dataset)\n",
    "    print(f\"Validation Accuracy: {val_acc:.2%}\")\n",
    "    metrics['Validation Accuracy']['Total'].append(val_acc)\n",
    "    \n",
    "    val_loss = F.cross_entropy(out, y_val, weight=class_weights)\n",
    "    print(f\"Validation Loss: {val_loss:.2%}\")\n",
    "    metrics['Validation Loss']['Total'].append(val_loss)\n",
    "\n",
    "    scheduler.step(val_loss)\n",
    "    \n",
    "    for i in range(num_classes):\n",
    "        label = reverse_label_map[i]\n",
    "        if class_total[i] > 0:\n",
    "            acc_i = class_correct[i] / class_total[i]\n",
    "            print(f\"{label} Accuracy: {acc_i:.2%} ({int(class_correct[i])}/{int(class_total[i])})\")\n",
    "            metrics['Validation Accuracy'][label].append(acc_i)\n",
    "        else:\n",
    "            print(f\"{label} Accuracy: N/A (no samples)\")\n",
    "            metrics['Validation Accuracy'][label].append(0.0)\n",
    "\n",
    "    # ---- Save checkpoints ----\n",
    "    torch.save(model.state_dict(), \"checkpoints/last_checkpoint.pth\")\n",
    "\n",
    "    if val_acc > best_val_acc:\n",
    "        best_val_acc = val_acc\n",
    "        torch.save(model.state_dict(), \"checkpoints/best_checkpoint.pth\")\n",
    "        print(\"✅ Saved new best checkpoint.\")"
   ]
  },
  {
   "cell_type": "code",
   "execution_count": 27,
   "id": "3412bfb6",
   "metadata": {},
   "outputs": [
    {
     "data": {
      "image/png": "[encoded data removed]",
      "text/plain": [
       "<Figure size 800x400 with 2 Axes>"
      ]
     },
     "metadata": {},
     "output_type": "display_data"
    }
   ],
   "source": [
    "import matplotlib.pyplot as plt\n",
    "\n",
    "epochs = list(range(1, len(metrics['Loss']) + 1))\n",
    "\n",
    "fig, ax1 = plt.subplots(figsize=(8, 4))\n",
    "color = 'tab:red'\n",
    "ax1.set_xlabel('Epoch')\n",
    "ax1.set_ylabel('Loss', color=color)\n",
    "ax1.plot(epochs, metrics['Loss'], color=color, label='Loss')\n",
    "ax1.tick_params(axis='y')\n",
    "\n",
    "ax2 = ax1.twinx()\n",
    "color = 'tab:blue'\n",
    "ax2.set_ylabel('Train Accuracy', color=color)\n",
    "ax2.plot(epochs, metrics['Train Accuracy'], color=color, label='Train Acc')\n",
    "ax2.tick_params(axis='y')\n",
    "\n",
    "fig.suptitle('Training Loss & Accuracy')\n",
    "fig.legend(loc='upper right', bbox_to_anchor=(1, 1), bbox_transform=ax1.transAxes)\n",
    "plt.tight_layout()\n",
    "plt.show()"
   ]
  },
  {
   "cell_type": "code",
   "execution_count": 28,
   "id": "193fd8d8",
   "metadata": {},
   "outputs": [
    {
     "data": {
      "image/png": "[encoded data removed]",
      "text/plain": [
       "<Figure size 1000x500 with 1 Axes>"
      ]
     },
     "metadata": {},
     "output_type": "display_data"
    }
   ],
   "source": [
    "plt.figure(figsize=(10, 5))\n",
    "plt.plot(epochs, metrics['Validation Accuracy']['Total'], label='Total', linewidth=2)\n",
    "\n",
    "for cls in ['Cocoa', 'Palm', 'Rubber']:\n",
    "    plt.plot(epochs, metrics['Validation Accuracy'][cls], label=cls)\n",
    "\n",
    "plt.xlabel('Epoch')\n",
    "plt.ylabel('Validation Accuracy')\n",
    "plt.title('Validation Accuracy by Class')\n",
    "plt.legend()\n",
    "plt.grid(True)\n",
    "plt.tight_layout()\n",
    "plt.show()"
   ]
  },
  {
   "cell_type": "code",
   "execution_count": null,
   "id": "9c08e4c4",
   "metadata": {},
   "outputs": [
    {
     "name": "stdout",
     "output_type": "stream",
     "text": [
      "Requirement already satisfied: plotly in /system/conda/miniconda3/envs/cloudspace/lib/python3.10/site-packages (6.2.0)\n",
      "Requirement already satisfied: narwhals>=1.15.1 in /system/conda/miniconda3/envs/cloudspace/lib/python3.10/site-packages (from plotly) (1.48.0)\n",
      "Requirement already satisfied: packaging in /system/conda/miniconda3/envs/cloudspace/lib/python3.10/site-packages (from plotly) (25.0)\n"
     ]
    }
   ],
   "source": [
    "!pip install plotly\n",
    "model.load_state_dict(torch.load(\"checkpoints/best_checkpoint.pth\", weights_only=True))\n",
    "model.eval()\n",
    "all_preds, all_labels = [], []\n",
    "with torch.no_grad():\n",
    "    for x, y in val_loader:\n",
    "        x, y = x.to(device), y.to(device)\n",
    "        out = model(x)\n",
    "        preds = out.argmax(dim=1)\n",
    "        all_preds.extend(preds.cpu().numpy())\n",
    "        all_labels.extend(y.cpu().numpy())\n",
    "\n",
    "import plotly.express as px\n",
    "import pandas as pd\n",
    "\n",
    "label_map = {0: \"Cocoa\", 1: \"Palm\", 2: \"Rubber\"}\n",
    "named_preds = [label_map[p] for p in all_preds]\n",
    "\n",
    "df = pd.DataFrame(named_preds, columns=[\"Prediction\"])\n",
    "fig = px.histogram(df, x=\"Prediction\", color=\"Prediction\", title=\"Prediction Distribution\")\n",
    "fig.show()"
   ]
  },
  {
   "cell_type": "code",
   "execution_count": null,
   "id": "10e44262-43d7-48b1-90a0-8bd113ed07f2",
   "metadata": {},
   "outputs": [],
   "source": []
  }
 ],
 "metadata": {
  "kernelspec": {
   "display_name": "Python 3",
   "language": "python",
   "name": "python3"
  },
  "language_info": {
   "codemirror_mode": {
    "name": "ipython",
    "version": 3
   },
   "file_extension": ".py",
   "mimetype": "text/x-python",
   "name": "python",
   "nbconvert_exporter": "python",
   "pygments_lexer": "ipython3",
   "version": "3.10.10"
  }
 },
 "nbformat": 4,
 "nbformat_minor": 5
}
